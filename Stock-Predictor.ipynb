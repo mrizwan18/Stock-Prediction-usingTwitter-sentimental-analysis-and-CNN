{
 "cells": [
  {
   "cell_type": "code",
   "execution_count": 4,
   "metadata": {},
   "outputs": [],
   "source": [
    "import matplotlib.pyplot as plt\n",
    "import glob\n",
    "import numpy as np\n",
    "from scipy import stats\n",
    "import json\n",
    "from textblob import TextBlob"
   ]
  },
  {
   "cell_type": "code",
   "execution_count": 5,
   "metadata": {},
   "outputs": [
    {
     "name": "stderr",
     "output_type": "stream",
     "text": [
      "Using TensorFlow backend.\n"
     ]
    }
   ],
   "source": [
    "from keras.models import Sequential\n",
    "from keras.layers.core import Dense, Dropout, Activation, Flatten\n",
    "from keras.layers.recurrent import LSTM, GRU\n",
    "from keras.layers import Convolution1D, MaxPooling1D, AtrousConvolution1D, RepeatVector\n",
    "from keras.callbacks import ModelCheckpoint, ReduceLROnPlateau, CSVLogger\n",
    "from keras.layers.wrappers import Bidirectional\n",
    "from keras import regularizers\n",
    "from keras.layers.normalization import BatchNormalization\n",
    "from keras.layers.advanced_activations import *\n",
    "from keras.optimizers import RMSprop, Adam, SGD, Nadam\n",
    "from keras.initializers import *"
   ]
  },
  {
   "cell_type": "markdown",
   "metadata": {},
   "source": [
    "# Preprocess Price Data"
   ]
  },
  {
   "cell_type": "code",
   "execution_count": 2,
   "metadata": {},
   "outputs": [],
   "source": [
    "for file in glob.glob(\"stocknet-dataset/price/preprocessed/*\"):\n",
    "    name = file.split(\"\\\\\")[1]\n",
    "    with open(\"stocknet-dataset/price/preprocessed/\"+name, \"r\") as infile, open(\"price/\" + name, \"w+\") as outfile:\n",
    "        for line in infile:\n",
    "            value = line.split(\"\\t\")\n",
    "            outfile.write(value[0]+ \" \"+ value[-2] + \" \\n\")"
   ]
  },
  {
   "cell_type": "markdown",
   "metadata": {},
   "source": [
    "# Read Price Data"
   ]
  },
  {
   "cell_type": "code",
   "execution_count": 100,
   "metadata": {},
   "outputs": [],
   "source": [
    "vals_p = []\n",
    "with open(\"price/AAPL.txt\") as infile:\n",
    "    for line in infile:\n",
    "        value = line.split(\" \")[:2]\n",
    "        vals_p.append(value)"
   ]
  },
  {
   "cell_type": "markdown",
   "metadata": {},
   "source": [
    "vals_p[0] => array of dates\n",
    "vals_p[1] => array of closing price"
   ]
  },
  {
   "cell_type": "code",
   "execution_count": 101,
   "metadata": {},
   "outputs": [],
   "source": [
    "vals_p = np.array(vals_p)\n",
    "vals_p = vals_p.T\n",
    "vals_p = np.flip(vals_p)\n",
    "vals_p = np.flip(vals_p, 0)"
   ]
  },
  {
   "cell_type": "code",
   "execution_count": 109,
   "metadata": {},
   "outputs": [
    {
     "data": {
      "text/plain": [
       "(1257,)"
      ]
     },
     "execution_count": 109,
     "metadata": {},
     "output_type": "execute_result"
    }
   ],
   "source": [
    "dates_p = np.array(vals_p[0], np.datetime64)\n",
    "dates_p.shape"
   ]
  },
  {
   "cell_type": "code",
   "execution_count": 110,
   "metadata": {},
   "outputs": [],
   "source": [
    "price = vals_p[1].astype(np.float)\n",
    "zprice = stats.zscore(price)"
   ]
  },
  {
   "cell_type": "code",
   "execution_count": 111,
   "metadata": {},
   "outputs": [],
   "source": [
    "p = price.tolist()\n",
    "d_p = dates_p.tolist()"
   ]
  },
  {
   "cell_type": "code",
   "execution_count": 112,
   "metadata": {},
   "outputs": [],
   "source": [
    "i = 1\n",
    "while (i < len(d_p)):\n",
    "    di = np.datetime64(d_p[i-1]) + 1\n",
    "    if(d_p[i] != di):\n",
    "        x = (p[i-1] + p[i])/2\n",
    "        d_p.insert(i, di)\n",
    "        p.insert(i,x)\n",
    "        i -= 1\n",
    "    i += 1"
   ]
  },
  {
   "cell_type": "code",
   "execution_count": 113,
   "metadata": {},
   "outputs": [],
   "source": [
    "price = np.array(p, np.float)\n",
    "dates_p = np.array(d_p, np.datetime64)"
   ]
  },
  {
   "cell_type": "code",
   "execution_count": 107,
   "metadata": {},
   "outputs": [],
   "source": [
    "with open(\"price/\" + \"AAPL\" + \" pp.txt\", \"w+\") as outfile:\n",
    "    for d, p in zip(dates_p, price):\n",
    "        outfile.write(str(d)+ \" \"+ repr(p) + \" \\n\")"
   ]
  },
  {
   "cell_type": "code",
   "execution_count": 117,
   "metadata": {},
   "outputs": [],
   "source": [
    "dates_p = dates_p[483:1304]"
   ]
  },
  {
   "cell_type": "code",
   "execution_count": 153,
   "metadata": {},
   "outputs": [],
   "source": [
    "price = price[483:1304]"
   ]
  },
  {
   "cell_type": "markdown",
   "metadata": {},
   "source": [
    "# Plot Stock Price"
   ]
  },
  {
   "cell_type": "code",
   "execution_count": 36,
   "metadata": {
    "scrolled": true
   },
   "outputs": [
    {
     "data": {
      "image/png": "[encoded data removed]",
      "text/plain": [
       "<Figure size 432x288 with 1 Axes>"
      ]
     },
     "metadata": {
      "needs_background": "light"
     },
     "output_type": "display_data"
    }
   ],
   "source": [
    "plt.plot(dates_p[:22], price[:22].astype(np.float))\n",
    "plt.gcf().autofmt_xdate()\n",
    "plt.xlabel('Date')  \n",
    "plt.ylabel('Close Price')\n",
    "plt.show()"
   ]
  },
  {
   "cell_type": "markdown",
   "metadata": {},
   "source": [
    "# Preprocess Tweets Data"
   ]
  },
  {
   "cell_type": "code",
   "execution_count": 84,
   "metadata": {},
   "outputs": [],
   "source": [
    "for file in glob.glob(\"stocknet-dataset/tweet/raw/AAPL/*\"):\n",
    "    name = file.split(\"\\\\\")[1]\n",
    "    with open(\"stocknet-dataset/tweet/raw/AAPL/\"+name, \"r\") as infile, open(\"sentiment/AAPL.txt\", \"a+\") as outfile:\n",
    "        tweets = []\n",
    "        for line in infile:\n",
    "            t = json.loads(line)\n",
    "            tweet = {\"text\": t[\"text\"], \"weight\": t[\"favorite_count\"] + t[\"retweet_count\"] + 1}\n",
    "            tweets.append(tweet)\n",
    "            \n",
    "        # pos, neg, ntrl\n",
    "        sntmnt = [0, 0, 0]\n",
    "        for tweet in tweets:\n",
    "            t = TextBlob(tweet[\"text\"])\n",
    "            if t.sentiment[0]>0:\n",
    "               sntmnt[0] += tweet[\"weight\"]\n",
    "            elif t.sentiment[0]<0:\n",
    "               sntmnt[1] += tweet[\"weight\"]\n",
    "            else:\n",
    "               sntmnt[2] += tweet[\"weight\"]\n",
    "        i = np.argmax(sntmnt)\n",
    "        if(i == 0):\n",
    "            o = 1\n",
    "        elif(i == 1):\n",
    "            o = -1\n",
    "        else:\n",
    "            o = 0\n",
    "        outfile.write(name.split(\".\")[0] + \" \" + repr(o) + \" \\n\")"
   ]
  },
  {
   "cell_type": "code",
   "execution_count": 85,
   "metadata": {},
   "outputs": [],
   "source": [
    "vals_s = []\n",
    "with open(\"sentiment/AAPL.txt\") as infile:\n",
    "    for line in infile:\n",
    "        value = line.split(\" \")[:2]\n",
    "        vals_s.append(value)"
   ]
  },
  {
   "cell_type": "markdown",
   "metadata": {},
   "source": [
    "sentiment => sentiment value  1-> positive, -1-> negative, 0-> neutral"
   ]
  },
  {
   "cell_type": "code",
   "execution_count": 86,
   "metadata": {},
   "outputs": [],
   "source": [
    "vals_s = np.array(vals_s)\n",
    "vals_s = vals_s.T\n",
    "dates_s = np.array(vals_s[0], np.datetime64)\n",
    "sentiment = vals_s[1].astype(np.int)"
   ]
  },
  {
   "cell_type": "code",
   "execution_count": 87,
   "metadata": {},
   "outputs": [],
   "source": [
    "ds = dates_s.tolist()\n",
    "p = sentiment.tolist()"
   ]
  },
  {
   "cell_type": "code",
   "execution_count": 89,
   "metadata": {},
   "outputs": [],
   "source": [
    "i = 1\n",
    "while (i < len(ds)):\n",
    "    di = np.datetime64(ds[i-1]) + 1\n",
    "    if(ds[i] != di):\n",
    "        ds.insert(i, di)\n",
    "        p.insert(i,0)\n",
    "        i -= 1\n",
    "    i += 1"
   ]
  },
  {
   "cell_type": "code",
   "execution_count": 90,
   "metadata": {},
   "outputs": [],
   "source": [
    "dates_s = np.array(ds, np.datetime64)\n",
    "sentiment = np.array(p, np.int)"
   ]
  },
  {
   "cell_type": "markdown",
   "metadata": {},
   "source": [
    "# Plot Twitter Sentiment"
   ]
  },
  {
   "cell_type": "code",
   "execution_count": 92,
   "metadata": {},
   "outputs": [
    {
     "data": {
      "image/png": "[encoded data removed]",
      "text/plain": [
       "<Figure size 432x288 with 1 Axes>"
      ]
     },
     "metadata": {
      "needs_background": "light"
     },
     "output_type": "display_data"
    }
   ],
   "source": [
    "plt.plot(dates_s[:30], sentiment[:30])\n",
    "plt.gcf().autofmt_xdate()\n",
    "plt.xlabel('Date')  \n",
    "plt.ylabel('Sentiment')\n",
    "plt.show()"
   ]
  },
  {
   "cell_type": "code",
   "execution_count": 166,
   "metadata": {},
   "outputs": [
    {
     "data": {
      "image/png": "[encoded data removed]",
      "text/plain": [
       "<Figure size 432x288 with 1 Axes>"
      ]
     },
     "metadata": {
      "needs_background": "light"
     },
     "output_type": "display_data"
    }
   ],
   "source": [
    "yar = []\n",
    "y = 0\n",
    "for s in sentiment:\n",
    "    y += s\n",
    "    if(s == 0):\n",
    "        y -= 0.5\n",
    "    yar.append(y)\n",
    "zyar = stats.zscore(yar)\n",
    "plt.plot(dates_s[:30], yar[:30])\n",
    "plt.gcf().autofmt_xdate()\n",
    "plt.xlabel('Date')  \n",
    "plt.ylabel('Sentiment')\n",
    "plt.show()"
   ]
  },
  {
   "cell_type": "code",
   "execution_count": 167,
   "metadata": {
    "scrolled": true
   },
   "outputs": [
    {
     "data": {
      "image/png": "[encoded data removed]",
      "text/plain": [
       "<Figure size 432x288 with 1 Axes>"
      ]
     },
     "metadata": {
      "needs_background": "light"
     },
     "output_type": "display_data"
    }
   ],
   "source": [
    "plt.plot(dates_s[:30], yar[:30], label = \"Sentiment\")\n",
    "plt.plot(dates_p[:30], price[:30], label = \"Stock\")\n",
    "plt.gcf().autofmt_xdate()\n",
    "plt.xlabel('Date')  \n",
    "plt.legend()\n",
    "plt.show()"
   ]
  },
  {
   "cell_type": "markdown",
   "metadata": {},
   "source": [
    "# Prediction"
   ]
  },
  {
   "cell_type": "code",
   "execution_count": 13,
   "metadata": {},
   "outputs": [],
   "source": [
    "WINDOW = 30\n",
    "EMB_SIZE = 2\n",
    "STEP = 1\n",
    "FORECAST = 1"
   ]
  },
  {
   "cell_type": "code",
   "execution_count": 544,
   "metadata": {},
   "outputs": [],
   "source": [
    "X, Y = [], []\n",
    "for i in range(0, dates_p.shape[0], STEP): \n",
    "    try:\n",
    "        p = price[i:i+WINDOW]\n",
    "        yar = []\n",
    "        y = 0\n",
    "        for s in range(i, i+WINDOW):\n",
    "            y += sentiment[s]\n",
    "            if(sentiment[s] == 0):\n",
    "                y -= 0.65\n",
    "            yar.append(y)\n",
    "\n",
    "        p = stats.zscore(p)\n",
    "        yar = stats.zscore(yar)\n",
    "\n",
    "        x_i = price[i:i+WINDOW]\n",
    "        y_i = price[i+WINDOW+FORECAST]  \n",
    "\n",
    "        last_close = x_i[-1]\n",
    "        next_close = y_i\n",
    "\n",
    "        if last_close < next_close:\n",
    "            y_i = [1, 0]\n",
    "        else:\n",
    "            y_i = [0, 1] \n",
    "\n",
    "        x_i = np.column_stack((p, yar))\n",
    "\n",
    "    except Exception as e:\n",
    "        break\n",
    "        \n",
    "    X.append(x_i)\n",
    "    Y.append(y_i)"
   ]
  },
  {
   "cell_type": "code",
   "execution_count": 545,
   "metadata": {},
   "outputs": [],
   "source": [
    "X, Y = np.array(X), np.array(Y)"
   ]
  },
  {
   "cell_type": "code",
   "execution_count": 546,
   "metadata": {},
   "outputs": [],
   "source": [
    "def shuffle_in_unison(a, b):\n",
    "    # courtsey http://stackoverflow.com/users/190280/josh-bleecher-snyder\n",
    "    assert len(a) == len(b)\n",
    "    shuffled_a = np.empty(a.shape, dtype=a.dtype)\n",
    "    shuffled_b = np.empty(b.shape, dtype=b.dtype)\n",
    "    permutation = np.random.permutation(len(a))\n",
    "    for old_index, new_index in enumerate(permutation):\n",
    "        shuffled_a[new_index] = a[old_index]\n",
    "        shuffled_b[new_index] = b[old_index]\n",
    "    return shuffled_a, shuffled_b\n",
    " \n",
    "def create_Xt_Yt(X, y, percentage=0.95):\n",
    "    p = int(len(X) * percentage)\n",
    "    X_train = X[0:p]\n",
    "    Y_train = y[0:p]\n",
    "     \n",
    "    #X_train, Y_train = shuffle_in_unison(X_train, Y_train)\n",
    " \n",
    "    X_test = X[p:]\n",
    "    Y_test = y[p:]\n",
    "\n",
    "    return X_train, X_test, Y_train, Y_test"
   ]
  },
  {
   "cell_type": "code",
   "execution_count": 547,
   "metadata": {},
   "outputs": [],
   "source": [
    "X_train, X_test, Y_train, Y_test = create_Xt_Yt(X, Y)"
   ]
  },
  {
   "cell_type": "code",
   "execution_count": 548,
   "metadata": {},
   "outputs": [],
   "source": [
    "X_train = np.reshape(X_train, (X_train.shape[0], X_train.shape[1], EMB_SIZE))\n",
    "X_test = np.reshape(X_test, (X_test.shape[0], X_test.shape[1], EMB_SIZE))"
   ]
  },
  {
   "cell_type": "code",
   "execution_count": 14,
   "metadata": {},
   "outputs": [
    {
     "name": "stderr",
     "output_type": "stream",
     "text": [
      "d:\\ahmed\\python\\test\\lib\\site-packages\\ipykernel_launcher.py:5: UserWarning: Update your `Conv1D` call to the Keras 2 API: `Conv1D(kernel_size=4, padding=\"same\", filters=16, input_shape=(30, 2))`\n",
      "  \"\"\"\n"
     ]
    },
    {
     "name": "stdout",
     "output_type": "stream",
     "text": [
      "WARNING:tensorflow:From d:\\ahmed\\python\\test\\lib\\site-packages\\tensorflow\\python\\framework\\op_def_library.py:263: colocate_with (from tensorflow.python.framework.ops) is deprecated and will be removed in a future version.\n",
      "Instructions for updating:\n",
      "Colocations handled automatically by placer.\n",
      "WARNING:tensorflow:From d:\\ahmed\\python\\test\\lib\\site-packages\\keras\\backend\\tensorflow_backend.py:3445: calling dropout (from tensorflow.python.ops.nn_ops) with keep_prob is deprecated and will be removed in a future version.\n",
      "Instructions for updating:\n",
      "Please use `rate` instead of `keep_prob`. Rate should be set to `rate = 1 - keep_prob`.\n"
     ]
    },
    {
     "name": "stderr",
     "output_type": "stream",
     "text": [
      "d:\\ahmed\\python\\test\\lib\\site-packages\\ipykernel_launcher.py:12: UserWarning: Update your `Conv1D` call to the Keras 2 API: `Conv1D(filters=8, kernel_size=4, padding=\"same\")`\n",
      "  if sys.path[0] == '':\n"
     ]
    }
   ],
   "source": [
    "model = Sequential()\n",
    "model.add(Convolution1D(input_shape = (WINDOW, EMB_SIZE),\n",
    "                        nb_filter=16,\n",
    "                        filter_length=4,\n",
    "                        border_mode='same'))\n",
    "model.add(BatchNormalization())\n",
    "model.add(Activation('tanh'))\n",
    "model.add(Dropout(0.5))\n",
    "\n",
    "model.add(Convolution1D(nb_filter=8,\n",
    "                        filter_length=4,\n",
    "                        border_mode='same'))\n",
    "model.add(BatchNormalization())\n",
    "model.add(Activation('tanh'))\n",
    "model.add(Dropout(0.5))\n",
    "\n",
    "model.add(Flatten())\n",
    "\n",
    "model.add(Dense(64))\n",
    "model.add(BatchNormalization())\n",
    "model.add(Activation('tanh'))\n",
    "\n",
    "\n",
    "model.add(Dense(2))\n",
    "model.add(Activation('softmax'))"
   ]
  },
  {
   "cell_type": "code",
   "execution_count": 17,
   "metadata": {
    "scrolled": true
   },
   "outputs": [
    {
     "name": "stdout",
     "output_type": "stream",
     "text": [
      "_________________________________________________________________\n",
      "Layer (type)                 Output Shape              Param #   \n",
      "=================================================================\n",
      "conv1d_1 (Conv1D)            (None, 30, 16)            144       \n",
      "_________________________________________________________________\n",
      "batch_normalization_1 (Batch (None, 30, 16)            64        \n",
      "_________________________________________________________________\n",
      "activation_1 (Activation)    (None, 30, 16)            0         \n",
      "_________________________________________________________________\n",
      "dropout_1 (Dropout)          (None, 30, 16)            0         \n",
      "_________________________________________________________________\n",
      "conv1d_2 (Conv1D)            (None, 30, 8)             520       \n",
      "_________________________________________________________________\n",
      "batch_normalization_2 (Batch (None, 30, 8)             32        \n",
      "_________________________________________________________________\n",
      "activation_2 (Activation)    (None, 30, 8)             0         \n",
      "_________________________________________________________________\n",
      "dropout_2 (Dropout)          (None, 30, 8)             0         \n",
      "_________________________________________________________________\n",
      "flatten_1 (Flatten)          (None, 240)               0         \n",
      "_________________________________________________________________\n",
      "dense_1 (Dense)              (None, 64)                15424     \n",
      "_________________________________________________________________\n",
      "batch_normalization_3 (Batch (None, 64)                256       \n",
      "_________________________________________________________________\n",
      "activation_3 (Activation)    (None, 64)                0         \n",
      "_________________________________________________________________\n",
      "dense_2 (Dense)              (None, 2)                 130       \n",
      "_________________________________________________________________\n",
      "activation_4 (Activation)    (None, 2)                 0         \n",
      "=================================================================\n",
      "Total params: 16,570\n",
      "Trainable params: 16,394\n",
      "Non-trainable params: 176\n",
      "_________________________________________________________________\n"
     ]
    }
   ],
   "source": [
    "model.summary()"
   ]
  },
  {
   "cell_type": "code",
   "execution_count": 584,
   "metadata": {},
   "outputs": [],
   "source": [
    "opt = Nadam(lr=0.002)"
   ]
  },
  {
   "cell_type": "code",
   "execution_count": 585,
   "metadata": {},
   "outputs": [],
   "source": [
    "reduce_lr = ReduceLROnPlateau(monitor='val_acc', factor=0.9, patience=30, min_lr=0.000001, verbose=1)\n",
    "checkpointer = ModelCheckpoint(filepath=\"lolkek.hdf5\", verbose=1, save_best_only=True)"
   ]
  },
  {
   "cell_type": "code",
   "execution_count": 586,
   "metadata": {},
   "outputs": [],
   "source": [
    "model.compile(optimizer=opt, \n",
    "              loss='categorical_crossentropy',\n",
    "              metrics=['accuracy'])"
   ]
  },
  {
   "cell_type": "code",
   "execution_count": 587,
   "metadata": {},
   "outputs": [
    {
     "name": "stderr",
     "output_type": "stream",
     "text": [
      "d:\\ahmed\\python\\test\\lib\\site-packages\\ipykernel_launcher.py:7: UserWarning: The `nb_epoch` argument in `fit` has been renamed `epochs`.\n",
      "  import sys\n"
     ]
    },
    {
     "name": "stdout",
     "output_type": "stream",
     "text": [
      "Train on 750 samples, validate on 40 samples\n",
      "Epoch 1/50\n",
      "750/750 [==============================] - 9s 13ms/step - loss: 0.8230 - acc: 0.5093 - val_loss: 0.7577 - val_acc: 0.5250\n",
      "\n",
      "Epoch 00001: val_loss improved from inf to 0.75774, saving model to lolkek.hdf5\n",
      "Epoch 2/50\n",
      "750/750 [==============================] - 0s 424us/step - loss: 0.7206 - acc: 0.5920 - val_loss: 0.7737 - val_acc: 0.5250\n",
      "\n",
      "Epoch 00002: val_loss did not improve from 0.75774\n",
      "Epoch 3/50\n",
      "750/750 [==============================] - 0s 420us/step - loss: 0.6981 - acc: 0.5880 - val_loss: 0.7745 - val_acc: 0.5250\n",
      "\n",
      "Epoch 00003: val_loss did not improve from 0.75774\n",
      "Epoch 4/50\n",
      "750/750 [==============================] - 0s 394us/step - loss: 0.6907 - acc: 0.5933 - val_loss: 0.7509 - val_acc: 0.5250\n",
      "\n",
      "Epoch 00004: val_loss improved from 0.75774 to 0.75085, saving model to lolkek.hdf5\n",
      "Epoch 5/50\n",
      "750/750 [==============================] - 0s 432us/step - loss: 0.6802 - acc: 0.5867 - val_loss: 0.7343 - val_acc: 0.5500\n",
      "\n",
      "Epoch 00005: val_loss improved from 0.75085 to 0.73430, saving model to lolkek.hdf5\n",
      "Epoch 6/50\n",
      "750/750 [==============================] - 0s 426us/step - loss: 0.6535 - acc: 0.6507 - val_loss: 0.7358 - val_acc: 0.5500\n",
      "\n",
      "Epoch 00006: val_loss did not improve from 0.73430\n",
      "Epoch 7/50\n",
      "750/750 [==============================] - 0s 353us/step - loss: 0.6532 - acc: 0.6507 - val_loss: 0.7024 - val_acc: 0.5750\n",
      "\n",
      "Epoch 00007: val_loss improved from 0.73430 to 0.70237, saving model to lolkek.hdf5\n",
      "Epoch 8/50\n",
      "750/750 [==============================] - 0s 290us/step - loss: 0.6354 - acc: 0.6440 - val_loss: 0.6808 - val_acc: 0.7000\n",
      "\n",
      "Epoch 00008: val_loss improved from 0.70237 to 0.68079, saving model to lolkek.hdf5\n",
      "Epoch 9/50\n",
      "750/750 [==============================] - 0s 383us/step - loss: 0.6539 - acc: 0.6147 - val_loss: 0.7086 - val_acc: 0.6500\n",
      "\n",
      "Epoch 00009: val_loss did not improve from 0.68079\n",
      "Epoch 10/50\n",
      "750/750 [==============================] - 0s 482us/step - loss: 0.6336 - acc: 0.6280 - val_loss: 0.7400 - val_acc: 0.6500\n",
      "\n",
      "Epoch 00010: val_loss did not improve from 0.68079\n",
      "Epoch 11/50\n",
      "750/750 [==============================] - 0s 309us/step - loss: 0.6264 - acc: 0.6587 - val_loss: 0.7279 - val_acc: 0.6500\n",
      "\n",
      "Epoch 00011: val_loss did not improve from 0.68079\n",
      "Epoch 12/50\n",
      "750/750 [==============================] - 0s 305us/step - loss: 0.5942 - acc: 0.6667 - val_loss: 0.7361 - val_acc: 0.6000\n",
      "\n",
      "Epoch 00012: val_loss did not improve from 0.68079\n",
      "Epoch 13/50\n",
      "750/750 [==============================] - 0s 454us/step - loss: 0.6239 - acc: 0.6693 - val_loss: 0.7557 - val_acc: 0.6000\n",
      "\n",
      "Epoch 00013: val_loss did not improve from 0.68079\n",
      "Epoch 14/50\n",
      "750/750 [==============================] - 0s 295us/step - loss: 0.6233 - acc: 0.6520 - val_loss: 0.7526 - val_acc: 0.5500\n",
      "\n",
      "Epoch 00014: val_loss did not improve from 0.68079\n",
      "Epoch 15/50\n",
      "750/750 [==============================] - 0s 294us/step - loss: 0.6243 - acc: 0.6560 - val_loss: 0.7786 - val_acc: 0.5750\n",
      "\n",
      "Epoch 00015: val_loss did not improve from 0.68079\n",
      "Epoch 16/50\n",
      "750/750 [==============================] - 0s 296us/step - loss: 0.6317 - acc: 0.6387 - val_loss: 0.7631 - val_acc: 0.5750\n",
      "\n",
      "Epoch 00016: val_loss did not improve from 0.68079\n",
      "Epoch 17/50\n",
      "750/750 [==============================] - 0s 293us/step - loss: 0.6170 - acc: 0.6680 - val_loss: 0.7528 - val_acc: 0.6000\n",
      "\n",
      "Epoch 00017: val_loss did not improve from 0.68079\n",
      "Epoch 18/50\n",
      "750/750 [==============================] - 0s 295us/step - loss: 0.6055 - acc: 0.6787 - val_loss: 0.7512 - val_acc: 0.5750\n",
      "\n",
      "Epoch 00018: val_loss did not improve from 0.68079\n",
      "Epoch 19/50\n",
      "750/750 [==============================] - 0s 296us/step - loss: 0.6053 - acc: 0.6747 - val_loss: 0.7539 - val_acc: 0.5750\n",
      "\n",
      "Epoch 00019: val_loss did not improve from 0.68079\n",
      "Epoch 20/50\n",
      "750/750 [==============================] - 0s 300us/step - loss: 0.6133 - acc: 0.6773 - val_loss: 0.7335 - val_acc: 0.5250\n",
      "\n",
      "Epoch 00020: val_loss did not improve from 0.68079\n",
      "Epoch 21/50\n",
      "750/750 [==============================] - 0s 290us/step - loss: 0.6008 - acc: 0.6880 - val_loss: 0.7386 - val_acc: 0.5500\n",
      "\n",
      "Epoch 00021: val_loss did not improve from 0.68079\n",
      "Epoch 22/50\n",
      "750/750 [==============================] - 0s 299us/step - loss: 0.6019 - acc: 0.6560 - val_loss: 0.7476 - val_acc: 0.6000\n",
      "\n",
      "Epoch 00022: val_loss did not improve from 0.68079\n",
      "Epoch 23/50\n",
      "750/750 [==============================] - 0s 297us/step - loss: 0.6098 - acc: 0.6720 - val_loss: 0.7449 - val_acc: 0.5500\n",
      "\n",
      "Epoch 00023: val_loss did not improve from 0.68079\n",
      "Epoch 24/50\n",
      "750/750 [==============================] - 0s 292us/step - loss: 0.5858 - acc: 0.6987 - val_loss: 0.7404 - val_acc: 0.5500\n",
      "\n",
      "Epoch 00024: val_loss did not improve from 0.68079\n",
      "Epoch 25/50\n",
      "750/750 [==============================] - 0s 299us/step - loss: 0.6104 - acc: 0.6787 - val_loss: 0.7365 - val_acc: 0.6000\n",
      "\n",
      "Epoch 00025: val_loss did not improve from 0.68079\n",
      "Epoch 26/50\n",
      "750/750 [==============================] - 0s 298us/step - loss: 0.5962 - acc: 0.7013 - val_loss: 0.7337 - val_acc: 0.5750\n",
      "\n",
      "Epoch 00026: val_loss did not improve from 0.68079\n",
      "Epoch 27/50\n",
      "750/750 [==============================] - 0s 287us/step - loss: 0.6006 - acc: 0.6813 - val_loss: 0.7277 - val_acc: 0.6250\n",
      "\n",
      "Epoch 00027: val_loss did not improve from 0.68079\n",
      "Epoch 28/50\n",
      "750/750 [==============================] - 0s 290us/step - loss: 0.5999 - acc: 0.6893 - val_loss: 0.7251 - val_acc: 0.6250\n",
      "\n",
      "Epoch 00028: val_loss did not improve from 0.68079\n",
      "Epoch 29/50\n",
      "750/750 [==============================] - 0s 293us/step - loss: 0.6016 - acc: 0.6773 - val_loss: 0.7295 - val_acc: 0.6000\n",
      "\n",
      "Epoch 00029: val_loss did not improve from 0.68079\n",
      "Epoch 30/50\n",
      "750/750 [==============================] - 0s 283us/step - loss: 0.5937 - acc: 0.6747 - val_loss: 0.7386 - val_acc: 0.6000\n",
      "\n",
      "Epoch 00030: val_loss did not improve from 0.68079\n",
      "Epoch 31/50\n",
      "750/750 [==============================] - 0s 283us/step - loss: 0.6083 - acc: 0.6640 - val_loss: 0.7340 - val_acc: 0.6000\n",
      "\n",
      "Epoch 00031: val_loss did not improve from 0.68079\n",
      "Epoch 32/50\n",
      "750/750 [==============================] - 0s 281us/step - loss: 0.5908 - acc: 0.6907 - val_loss: 0.7220 - val_acc: 0.6500\n",
      "\n",
      "Epoch 00032: val_loss did not improve from 0.68079\n",
      "Epoch 33/50\n",
      "750/750 [==============================] - 0s 280us/step - loss: 0.5916 - acc: 0.7133 - val_loss: 0.7264 - val_acc: 0.6000\n",
      "\n",
      "Epoch 00033: val_loss did not improve from 0.68079\n",
      "Epoch 34/50\n",
      "750/750 [==============================] - 0s 292us/step - loss: 0.5914 - acc: 0.6880 - val_loss: 0.7205 - val_acc: 0.6750\n",
      "\n",
      "Epoch 00034: val_loss did not improve from 0.68079\n",
      "Epoch 35/50\n",
      "750/750 [==============================] - 0s 288us/step - loss: 0.5777 - acc: 0.6893 - val_loss: 0.7183 - val_acc: 0.6500\n",
      "\n",
      "Epoch 00035: val_loss did not improve from 0.68079\n",
      "Epoch 36/50\n",
      "750/750 [==============================] - 0s 338us/step - loss: 0.5804 - acc: 0.6827 - val_loss: 0.7209 - val_acc: 0.6250\n",
      "\n",
      "Epoch 00036: val_loss did not improve from 0.68079\n",
      "Epoch 37/50\n",
      "750/750 [==============================] - 0s 364us/step - loss: 0.6115 - acc: 0.6907 - val_loss: 0.7126 - val_acc: 0.6000\n",
      "\n",
      "Epoch 00037: val_loss did not improve from 0.68079\n",
      "Epoch 38/50\n",
      "750/750 [==============================] - 0s 300us/step - loss: 0.5842 - acc: 0.7093 - val_loss: 0.7075 - val_acc: 0.6500\n",
      "\n",
      "Epoch 00038: ReduceLROnPlateau reducing learning rate to 0.0018000000854954123.\n",
      "\n",
      "Epoch 00038: val_loss did not improve from 0.68079\n",
      "Epoch 39/50\n",
      "750/750 [==============================] - 0s 317us/step - loss: 0.5698 - acc: 0.7160 - val_loss: 0.7216 - val_acc: 0.6250\n",
      "\n",
      "Epoch 00039: val_loss did not improve from 0.68079\n",
      "Epoch 40/50\n",
      "750/750 [==============================] - 0s 280us/step - loss: 0.5886 - acc: 0.7040 - val_loss: 0.7157 - val_acc: 0.6250\n",
      "\n",
      "Epoch 00040: val_loss did not improve from 0.68079\n",
      "Epoch 41/50\n",
      "750/750 [==============================] - 0s 410us/step - loss: 0.5859 - acc: 0.6827 - val_loss: 0.7156 - val_acc: 0.6250\n",
      "\n",
      "Epoch 00041: val_loss did not improve from 0.68079\n",
      "Epoch 42/50\n",
      "750/750 [==============================] - 0s 369us/step - loss: 0.5817 - acc: 0.7027 - val_loss: 0.7073 - val_acc: 0.6500\n",
      "\n",
      "Epoch 00042: val_loss did not improve from 0.68079\n",
      "Epoch 43/50\n",
      "750/750 [==============================] - 0s 391us/step - loss: 0.5748 - acc: 0.7040 - val_loss: 0.7104 - val_acc: 0.6250\n",
      "\n",
      "Epoch 00043: val_loss did not improve from 0.68079\n",
      "Epoch 44/50\n",
      "750/750 [==============================] - 0s 474us/step - loss: 0.5622 - acc: 0.7200 - val_loss: 0.7027 - val_acc: 0.6000\n",
      "\n",
      "Epoch 00044: val_loss did not improve from 0.68079\n",
      "Epoch 45/50\n",
      "750/750 [==============================] - 0s 431us/step - loss: 0.5689 - acc: 0.7120 - val_loss: 0.6890 - val_acc: 0.6000\n",
      "\n",
      "Epoch 00045: val_loss did not improve from 0.68079\n",
      "Epoch 46/50\n",
      "750/750 [==============================] - 0s 423us/step - loss: 0.5858 - acc: 0.6840 - val_loss: 0.6880 - val_acc: 0.6250\n",
      "\n",
      "Epoch 00046: val_loss did not improve from 0.68079\n",
      "Epoch 47/50\n",
      "750/750 [==============================] - 0s 474us/step - loss: 0.5833 - acc: 0.7053 - val_loss: 0.6987 - val_acc: 0.6250\n",
      "\n",
      "Epoch 00047: val_loss did not improve from 0.68079\n",
      "Epoch 48/50\n",
      "750/750 [==============================] - 0s 452us/step - loss: 0.6028 - acc: 0.6813 - val_loss: 0.6988 - val_acc: 0.6250\n",
      "\n",
      "Epoch 00048: val_loss did not improve from 0.68079\n",
      "Epoch 49/50\n",
      "750/750 [==============================] - 0s 331us/step - loss: 0.5816 - acc: 0.7067 - val_loss: 0.6939 - val_acc: 0.6750\n",
      "\n",
      "Epoch 00049: val_loss did not improve from 0.68079\n",
      "Epoch 50/50\n",
      "750/750 [==============================] - 0s 409us/step - loss: 0.5737 - acc: 0.7093 - val_loss: 0.6993 - val_acc: 0.6500\n",
      "\n",
      "Epoch 00050: val_loss did not improve from 0.68079\n"
     ]
    }
   ],
   "source": [
    "history = model.fit(X_train, Y_train, \n",
    "          nb_epoch = 50, \n",
    "          batch_size = 128, \n",
    "          verbose=1, \n",
    "          validation_data=(X_test, Y_test),\n",
    "          callbacks=[reduce_lr, checkpointer],\n",
    "          shuffle=True)"
   ]
  },
  {
   "cell_type": "code",
   "execution_count": 588,
   "metadata": {},
   "outputs": [],
   "source": [
    "model.load_weights(\"lolkek.hdf5\")\n",
    "pred = model.predict(np.array(X_test))"
   ]
  },
  {
   "cell_type": "code",
   "execution_count": 589,
   "metadata": {},
   "outputs": [],
   "source": [
    "from sklearn.metrics import classification_report\n",
    "from sklearn.metrics import confusion_matrix"
   ]
  },
  {
   "cell_type": "code",
   "execution_count": 590,
   "metadata": {},
   "outputs": [
    {
     "name": "stdout",
     "output_type": "stream",
     "text": [
      "[[0.83333333 0.13636364]\n",
      " [0.5        0.59090909]]\n"
     ]
    }
   ],
   "source": [
    "C = confusion_matrix([np.argmax(y) for y in Y_test], [np.argmax(y) for y in pred])\n",
    "\n",
    "print(C / C.astype(np.float).sum(axis=1))"
   ]
  },
  {
   "cell_type": "code",
   "execution_count": 10,
   "metadata": {},
   "outputs": [],
   "source": [
    "def plot_confusion_matrix(cm, classes,\n",
    "                          normalize=False,\n",
    "                          title='Confusion matrix',\n",
    "                          cmap=plt.cm.Blues):\n",
    "  \n",
    "    print(cm)\n",
    "\n",
    "    plt.imshow(cm, interpolation='nearest', cmap=cmap)\n",
    "    plt.title(title)\n",
    "    plt.colorbar()\n",
    "    tick_marks = np.arange(len(classes))\n",
    "    plt.xticks(tick_marks, classes, rotation=45)\n",
    "    plt.yticks(tick_marks, classes)\n",
    "\n",
    "    fmt = '.2f' if normalize else 'd'\n",
    "    thresh = cm.max() / 2.\n",
    "    \n",
    "    plt.tight_layout()\n",
    "    plt.ylabel('True label')\n",
    "    plt.xlabel('Predicted label')\n",
    "    return cm"
   ]
  },
  {
   "cell_type": "code",
   "execution_count": 11,
   "metadata": {},
   "outputs": [
    {
     "name": "stdout",
     "output_type": "stream",
     "text": [
      "[[0.83333333 0.13636364]\n",
      " [0.5        0.59090909]]\n"
     ]
    },
    {
     "data": {
      "text/plain": [
       "array([[0.83333333, 0.13636364],\n",
       "       [0.5       , 0.59090909]])"
      ]
     },
     "execution_count": 11,
     "metadata": {},
     "output_type": "execute_result"
    },
    {
     "data": {
      "image/png": "[encoded data removed]",
      "text/plain": [
       "<Figure size 432x288 with 2 Axes>"
      ]
     },
     "metadata": {
      "needs_background": "light"
     },
     "output_type": "display_data"
    }
   ],
   "source": [
    "plot_confusion_matrix(C, [0, 1])"
   ]
  },
  {
   "cell_type": "code",
   "execution_count": 591,
   "metadata": {},
   "outputs": [
    {
     "data": {
      "image/png": "[encoded data removed]",
      "text/plain": [
       "<Figure size 432x288 with 1 Axes>"
      ]
     },
     "metadata": {
      "needs_background": "light"
     },
     "output_type": "display_data"
    }
   ],
   "source": [
    "plt.figure()\n",
    "plt.plot(history.history['loss'])\n",
    "plt.plot(history.history['val_loss'])\n",
    "plt.title('model loss')\n",
    "plt.ylabel('loss')\n",
    "plt.xlabel('epoch')\n",
    "plt.legend(['train', 'test'], loc='best')\n",
    "plt.show()"
   ]
  },
  {
   "cell_type": "code",
   "execution_count": 592,
   "metadata": {},
   "outputs": [
    {
     "data": {
      "image/png": "[encoded data removed]",
      "text/plain": [
       "<Figure size 432x288 with 1 Axes>"
      ]
     },
     "metadata": {
      "needs_background": "light"
     },
     "output_type": "display_data"
    }
   ],
   "source": [
    "plt.figure()\n",
    "plt.plot(history.history['acc'])\n",
    "plt.plot(history.history['val_acc'])\n",
    "plt.title('model accuracy')\n",
    "plt.ylabel('accuracy')\n",
    "plt.xlabel('epoch')\n",
    "plt.legend(['train', 'test'], loc='best')\n",
    "plt.show()"
   ]
  },
  {
   "cell_type": "code",
   "execution_count": 593,
   "metadata": {},
   "outputs": [
    {
     "data": {
      "text/plain": [
       "0.699999988079071"
      ]
     },
     "execution_count": 593,
     "metadata": {},
     "output_type": "execute_result"
    }
   ],
   "source": [
    "max(history.history['val_acc'])"
   ]
  },
  {
   "cell_type": "code",
   "execution_count": null,
   "metadata": {},
   "outputs": [],
   "source": []
  }
 ],
 "metadata": {
  "kernelspec": {
   "display_name": "Python 3",
   "language": "python",
   "name": "python3"
  },
  "language_info": {
   "codemirror_mode": {
    "name": "ipython",
    "version": 3
   },
   "file_extension": ".py",
   "mimetype": "text/x-python",
   "name": "python",
   "nbconvert_exporter": "python",
   "pygments_lexer": "ipython3",
   "version": "3.5.4"
  }
 },
 "nbformat": 4,
 "nbformat_minor": 2
}
